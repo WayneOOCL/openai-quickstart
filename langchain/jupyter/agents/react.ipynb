{
 "cells": [
  {
   "cell_type": "markdown",
   "id": "ce5e76a5-222b-408d-b90c-19a801432e66",
   "metadata": {},
   "source": [
    "# LangChain 核心模块 Agent - ReAct\n",
    "\n",
    "ReAct 核心思想是 推理+操作，本示例以` Google Search` 和 `LLM Math` 作为可选操作集合（toolkits），实现 ReAct 功能。\n",
    "\n",
    "以下`SERPAPI_API_KEY`仅为示例，请访问 https://serpapi.com 注册账号并替换为自己的 `API_KEY`（每月100次免费调用）"
   ]
  },
  {
   "cell_type": "code",
   "execution_count": 1,
   "id": "108d8a86-02a9-4618-b6a0-dc115c4ad532",
   "metadata": {},
   "outputs": [
    {
     "name": "stdout",
     "output_type": "stream",
     "text": [
      "Requirement already satisfied: langchain in c:\\users\\lenovo\\appdata\\roaming\\python\\python310\\site-packages (0.2.7)\n",
      "Requirement already satisfied: PyYAML>=5.3 in c:\\programdata\\anaconda3\\envs\\langchain\\lib\\site-packages (from langchain) (6.0.1)\n",
      "Requirement already satisfied: SQLAlchemy<3,>=1.4 in c:\\programdata\\anaconda3\\envs\\langchain\\lib\\site-packages (from langchain) (2.0.31)\n",
      "Requirement already satisfied: aiohttp<4.0.0,>=3.8.3 in c:\\programdata\\anaconda3\\envs\\langchain\\lib\\site-packages (from langchain) (3.9.5)\n",
      "Requirement already satisfied: async-timeout<5.0.0,>=4.0.0 in c:\\programdata\\anaconda3\\envs\\langchain\\lib\\site-packages (from langchain) (4.0.3)\n",
      "Requirement already satisfied: langchain-core<0.3.0,>=0.2.12 in c:\\users\\lenovo\\appdata\\roaming\\python\\python310\\site-packages (from langchain) (0.2.13)\n",
      "Requirement already satisfied: langchain-text-splitters<0.3.0,>=0.2.0 in c:\\programdata\\anaconda3\\envs\\langchain\\lib\\site-packages (from langchain) (0.2.0)\n",
      "Requirement already satisfied: langsmith<0.2.0,>=0.1.17 in c:\\users\\lenovo\\appdata\\roaming\\python\\python310\\site-packages (from langchain) (0.1.85)\n",
      "Requirement already satisfied: numpy<2,>=1 in c:\\programdata\\anaconda3\\envs\\langchain\\lib\\site-packages (from langchain) (1.26.4)\n",
      "Requirement already satisfied: pydantic<3,>=1 in c:\\programdata\\anaconda3\\envs\\langchain\\lib\\site-packages (from langchain) (2.5.3)\n",
      "Requirement already satisfied: requests<3,>=2 in c:\\users\\lenovo\\appdata\\roaming\\python\\python310\\site-packages (from langchain) (2.32.3)\n",
      "Requirement already satisfied: tenacity!=8.4.0,<9.0.0,>=8.1.0 in c:\\programdata\\anaconda3\\envs\\langchain\\lib\\site-packages (from langchain) (8.4.2)\n",
      "Requirement already satisfied: aiosignal>=1.1.2 in c:\\programdata\\anaconda3\\envs\\langchain\\lib\\site-packages (from aiohttp<4.0.0,>=3.8.3->langchain) (1.3.1)\n",
      "Requirement already satisfied: attrs>=17.3.0 in c:\\programdata\\anaconda3\\envs\\langchain\\lib\\site-packages (from aiohttp<4.0.0,>=3.8.3->langchain) (23.2.0)\n",
      "Requirement already satisfied: frozenlist>=1.1.1 in c:\\programdata\\anaconda3\\envs\\langchain\\lib\\site-packages (from aiohttp<4.0.0,>=3.8.3->langchain) (1.4.1)\n",
      "Requirement already satisfied: multidict<7.0,>=4.5 in c:\\programdata\\anaconda3\\envs\\langchain\\lib\\site-packages (from aiohttp<4.0.0,>=3.8.3->langchain) (6.0.5)\n",
      "Requirement already satisfied: yarl<2.0,>=1.0 in c:\\programdata\\anaconda3\\envs\\langchain\\lib\\site-packages (from aiohttp<4.0.0,>=3.8.3->langchain) (1.9.4)\n",
      "Requirement already satisfied: jsonpatch<2.0,>=1.33 in c:\\programdata\\anaconda3\\envs\\langchain\\lib\\site-packages (from langchain-core<0.3.0,>=0.2.12->langchain) (1.33)\n",
      "Requirement already satisfied: packaging<25,>=23.2 in c:\\programdata\\anaconda3\\envs\\langchain\\lib\\site-packages (from langchain-core<0.3.0,>=0.2.12->langchain) (23.2)\n",
      "Requirement already satisfied: orjson<4.0.0,>=3.9.14 in c:\\programdata\\anaconda3\\envs\\langchain\\lib\\site-packages (from langsmith<0.2.0,>=0.1.17->langchain) (3.10.5)\n",
      "Requirement already satisfied: annotated-types>=0.4.0 in c:\\programdata\\anaconda3\\envs\\langchain\\lib\\site-packages (from pydantic<3,>=1->langchain) (0.6.0)\n",
      "Requirement already satisfied: pydantic-core==2.14.6 in c:\\programdata\\anaconda3\\envs\\langchain\\lib\\site-packages (from pydantic<3,>=1->langchain) (2.14.6)\n",
      "Requirement already satisfied: typing-extensions>=4.6.1 in c:\\programdata\\anaconda3\\envs\\langchain\\lib\\site-packages (from pydantic<3,>=1->langchain) (4.12.2)\n",
      "Requirement already satisfied: charset-normalizer<4,>=2 in c:\\programdata\\anaconda3\\envs\\langchain\\lib\\site-packages (from requests<3,>=2->langchain) (3.3.2)\n",
      "Requirement already satisfied: idna<4,>=2.5 in c:\\programdata\\anaconda3\\envs\\langchain\\lib\\site-packages (from requests<3,>=2->langchain) (3.6)\n",
      "Requirement already satisfied: urllib3<3,>=1.21.1 in c:\\programdata\\anaconda3\\envs\\langchain\\lib\\site-packages (from requests<3,>=2->langchain) (2.2.2)\n",
      "Requirement already satisfied: certifi>=2017.4.17 in c:\\programdata\\anaconda3\\envs\\langchain\\lib\\site-packages (from requests<3,>=2->langchain) (2024.2.2)\n",
      "Requirement already satisfied: greenlet!=0.4.17 in c:\\programdata\\anaconda3\\envs\\langchain\\lib\\site-packages (from SQLAlchemy<3,>=1.4->langchain) (3.0.3)\n",
      "Requirement already satisfied: jsonpointer>=1.9 in c:\\programdata\\anaconda3\\envs\\langchain\\lib\\site-packages (from jsonpatch<2.0,>=1.33->langchain-core<0.3.0,>=0.2.12->langchain) (3.0.0)\n"
     ]
    }
   ],
   "source": [
    "! pip install -U langchain"
   ]
  },
  {
   "cell_type": "code",
   "execution_count": 2,
   "id": "cd59da96-dda8-42c8-9c82-8460cf3aa75d",
   "metadata": {},
   "outputs": [],
   "source": [
    "import os\n",
    "\n",
    "# 更换为自己的 Serp API KEY\n",
    "os.environ[\"SERPAPI_API_KEY\"] = \"1e3c93e0753ac224098370cd71da86150c6609caba6b5aaa307e04b72a5006e1\""
   ]
  },
  {
   "cell_type": "code",
   "execution_count": 3,
   "id": "d03a5086-d453-44f2-898b-0fecb746d0c0",
   "metadata": {},
   "outputs": [],
   "source": [
    "from langchain_openai import OpenAI\n",
    "\n",
    "llm = OpenAI(temperature=0)"
   ]
  },
  {
   "cell_type": "code",
   "execution_count": 4,
   "id": "9e7e7202-625a-4cec-999a-321a40115792",
   "metadata": {},
   "outputs": [],
   "source": [
    "from langchain.agents import load_tools\n",
    "from langchain.agents import initialize_agent\n",
    "from langchain.agents import AgentType\n",
    "\n",
    "#加载 LangChain 内置的 Tools\n",
    "tools = load_tools([\"serpapi\", \"llm-math\"], llm=llm)"
   ]
  },
  {
   "cell_type": "markdown",
   "id": "d89d569f-5313-42f3-8f1a-ea45fb1ea035",
   "metadata": {},
   "source": [
    "### 使用语言模型（GPT-3）"
   ]
  },
  {
   "cell_type": "code",
   "execution_count": 5,
   "id": "70af3538-18c4-4c64-99a7-96b32038d31b",
   "metadata": {},
   "outputs": [
    {
     "name": "stderr",
     "output_type": "stream",
     "text": [
      "C:\\Users\\lenovo\\AppData\\Roaming\\Python\\Python310\\site-packages\\langchain_core\\_api\\deprecation.py:139: LangChainDeprecationWarning: The function `initialize_agent` was deprecated in LangChain 0.1.0 and will be removed in 0.3.0. Use Use new agent constructor methods like create_react_agent, create_json_agent, create_structured_chat_agent, etc. instead.\n",
      "  warn_deprecated(\n"
     ]
    }
   ],
   "source": [
    "# 实例化 ZERO_SHOT_REACT Agent\n",
    "agent = initialize_agent(tools, llm, agent=AgentType.ZERO_SHOT_REACT_DESCRIPTION, verbose=True)"
   ]
  },
  {
   "cell_type": "code",
   "execution_count": 6,
   "id": "484bba88-885b-4630-a9a9-b2ff6241df83",
   "metadata": {},
   "outputs": [
    {
     "name": "stdout",
     "output_type": "stream",
     "text": [
      "\n",
      "\n",
      "\u001B[1m> Entering new AgentExecutor chain...\u001B[0m\n",
      "\u001B[32;1m\u001B[1;3m I should use the search engine to find information about Leonardo DiCaprio's girlfriend.\n",
      "Action: Search\n",
      "Action Input: \"Leonardo DiCaprio girlfriend\"\u001B[0m\n",
      "Observation: \u001B[36;1m\u001B[1;3mVittoria Ceretti\u001B[0m\n",
      "Thought:\u001B[32;1m\u001B[1;3m Now I need to use the calculator to calculate 0.43 times the age of Vittoria Ceretti.\n",
      "Action: Calculator\n",
      "Action Input: 0.43 * 23\u001B[0m\n",
      "Observation: \u001B[33;1m\u001B[1;3mAnswer: 9.89\u001B[0m\n",
      "Thought:\u001B[32;1m\u001B[1;3m I now know the final answer.\n",
      "Final Answer: 9.89\u001B[0m\n",
      "\n",
      "\u001B[1m> Finished chain.\u001B[0m\n"
     ]
    },
    {
     "data": {
      "text/plain": [
       "{'input': '谁是莱昂纳多·迪卡普里奥的女朋友？她现在年龄的0.43次方是多少?', 'output': '9.89'}"
      ]
     },
     "execution_count": 6,
     "metadata": {},
     "output_type": "execute_result"
    }
   ],
   "source": [
    "agent.invoke(\"谁是莱昂纳多·迪卡普里奥的女朋友？她现在年龄的0.43次方是多少?\")"
   ]
  },
  {
   "cell_type": "markdown",
   "id": "b816038d-6f3a-47cb-b614-e432db8c1883",
   "metadata": {},
   "source": [
    "### 使用聊天模型（GPT-4）"
   ]
  },
  {
   "cell_type": "code",
   "execution_count": 8,
   "id": "448c877f-577b-4277-a155-51223dc3d949",
   "metadata": {},
   "outputs": [
    {
     "name": "stdout",
     "output_type": "stream",
     "text": [
      "\n",
      "\n",
      "\u001B[1m> Entering new AgentExecutor chain...\u001B[0m\n",
      "\u001B[32;1m\u001B[1;3mQuestion: 谁是莱昂纳多·迪卡普里奥的女朋友？\n",
      "Thought: To find out who Leonardo DiCaprio's current girlfriend is, I will need to use a search engine as this information can change frequently and is dependent on current events or recent reports.\n",
      "Action:\n",
      "```\n",
      "{\n",
      "  \"action\": \"Search\",\n",
      "  \"action_input\": \"Leonardo DiCaprio current girlfriend 2023\"\n",
      "}\n",
      "```\n",
      "\u001B[0m\n",
      "Observation: \u001B[36;1m\u001B[1;3mVittoria Ceretti\u001B[0m\n",
      "Thought:\u001B[32;1m\u001B[1;3mThought: Now that I know Leonardo DiCaprio's current girlfriend is Vittoria Ceretti, I need to find out her age to calculate the 0.43rd power of it.\n",
      "\n",
      "Action:\n",
      "```\n",
      "{\n",
      "  \"action\": \"Search\",\n",
      "  \"action_input\": \"Vittoria Ceretti age\"\n",
      "}\n",
      "```\u001B[0m\n",
      "Observation: \u001B[36;1m\u001B[1;3m26 years\u001B[0m\n",
      "Thought:\u001B[32;1m\u001B[1;3mNow that I know Vittoria Ceretti is 26 years old, I can calculate the 0.43rd power of her age.\n",
      "\n",
      "Action:\n",
      "```\n",
      "{\n",
      "  \"action\": \"Calculator\",\n",
      "  \"action_input\": {\n",
      "    \"expression\": \"26^0.43\"\n",
      "  }\n",
      "}\n",
      "```\n",
      "\u001B[0m\n",
      "Observation: \u001B[33;1m\u001B[1;3mAnswer: 4.059182145592686\u001B[0m\n",
      "Thought:\u001B[32;1m\u001B[1;3mI now know the final answer to the second part of the question.\n",
      "Final Answer: Vittoria Ceretti's age to the power of 0.43 is approximately 4.06.\u001B[0m\n",
      "\n",
      "\u001B[1m> Finished chain.\u001B[0m\n"
     ]
    },
    {
     "data": {
      "text/plain": [
       "{'input': '谁是莱昂纳多·迪卡普里奥的女朋友？她现在年龄的0.43次方是多少?',\n",
       " 'output': \"Vittoria Ceretti's age to the power of 0.43 is approximately 4.06.\"}"
      ]
     },
     "execution_count": 8,
     "metadata": {},
     "output_type": "execute_result"
    }
   ],
   "source": [
    "from langchain_openai import ChatOpenAI\n",
    "\n",
    "chat_model = ChatOpenAI(model=\"gpt-4-1106-preview\", temperature=0)\n",
    "agent = initialize_agent(tools, chat_model, agent=AgentType.CHAT_ZERO_SHOT_REACT_DESCRIPTION, verbose=True)\n",
    "agent.invoke(\"谁是莱昂纳多·迪卡普里奥的女朋友？她现在年龄的0.43次方是多少?\")"
   ]
  },
  {
   "metadata": {},
   "cell_type": "markdown",
   "source": [
    "> Entering new AgentExecutor chain...\n",
    "Thought: 我需要先找到莱昂纳多·迪卡普里奥目前的女朋友是谁，然后再计算她年龄的0.43次方。首先我将搜索一下他的女朋友的信息。\n",
    "Action:\n",
    "```\n",
    "{\n",
    "  \"action\": \"Search\",\n",
    "  \"action_input\": \"Leonardo DiCaprio girlfriend 2023\"\n",
    "}\n",
    "```\n",
    "Observation: 查找结果显示，莱昂纳多·迪卡普里奥的女朋友是维多利亚·刘（Victoria L.）。不过结果没有显示她的具体年龄，因此我需要进一步的搜索来获取她的出生年份或年龄信息。\n",
    "\n",
    "Thought: 接下来我需要查找维多利亚·刘的年龄信息。\n",
    "Action:\n",
    "```\n",
    "{\n",
    "  \"action\": \"Search\",\n",
    "  \"action_input\": \"Victoria L age 2023\"\n",
    "}\n",
    "```\n",
    "Observation: 搜索结果显示，维多利亚·刘的年龄是25岁。\n",
    "\n",
    "Thought: 现在我知道了维多利亚·刘的年龄是25岁，我需要计算25的0.43次方。\n",
    "Action:\n",
    "```\n",
    "{\n",
    "  \"action\": \"Calculator\",\n",
    "  \"action_input\": \"25^0.43\"\n",
    "}\n",
    "```\n",
    "Observation: 计算结果是约为4.223。\n",
    "\n",
    "Thought: 现在我有了维多利亚·刘的年龄和计算结果。\n",
    "Final Answer: 莱昂纳多·迪卡普里奥的女朋友是维多利亚·刘，她年龄的0.43次方是约4.223。\n",
    "\n",
    "> Finished chain."
   ],
   "id": "7a0d05b1c03099de"
  },
  {
   "cell_type": "code",
   "id": "67f4728e-bf1f-4643-a2ee-8f8679ddc58a",
   "metadata": {
    "jupyter": {
     "is_executing": true
    }
   },
   "source": "agent.invoke(\"特朗普的入党时间跟拜登的入党时间相差多少年?\")",
   "outputs": [],
   "execution_count": null
  },
  {
   "metadata": {},
   "cell_type": "markdown",
   "source": [
    "\n",
    "\n",
    "> Entering new AgentExecutor chain...\n",
    "Thought: 我需要查找特朗普和拜登的入党时间，然后计算他们之间的差距。首先，我将搜索特朗普的入党时间。\n",
    "\n",
    "Action:\n",
    "```\n",
    "{\n",
    "  \"action\": \"Search\",\n",
    "  \"action_input\": \"Trump party affiliation date\"\n",
    "}\n",
    "```\n",
    "Observation: 特朗普于1987年加入共和党。\n",
    "\n",
    "Thought: 现在我需要查找拜登的入党时间。\n",
    "\n",
    "Action:\n",
    "```\n",
    "{\n",
    "  \"action\": \"Search\",\n",
    "  \"action_input\": \"Biden party affiliation date\"\n",
    "}\n",
    "```\n",
    "Observation: 拜登于1966年加入民主党。\n",
    "\n",
    "Thought: 现在我知道了特朗普的入党时间是1987年，拜登的入党时间是1966年。接下来，我来计算他们入党时间之间的差距。\n",
    "\n",
    "Action:\n",
    "```\n",
    "{\n",
    "  \"action\": \"Calculator\",\n",
    "  \"action_input\": \"1987 - 1966\"\n",
    "}\n",
    "```\n",
    "Observation: 计算结果是21年。\n",
    "\n",
    "Thought: 我现在知道特朗普的入党时间跟拜登的入党时间相差21年。\n",
    "Final Answer: 特朗普的入党时间跟拜登的入党时间相差21年。\n",
    "\n",
    "> Finished chain."
   ],
   "id": "f847bb79641c7583"
  },
  {
   "metadata": {},
   "cell_type": "markdown",
   "source": "{'input': '特朗普的入党时间跟拜登的入党时间相差多少年?', 'output': '特朗普的入党时间跟拜登的入党时间相差21年。'}",
   "id": "53c62bc5a5f3435e"
  },
  {
   "metadata": {},
   "cell_type": "code",
   "outputs": [],
   "execution_count": null,
   "source": "agent.invoke(\"导盲犬禁止入内，是给盲人看的，还是给导盲犬看的？\")",
   "id": "ca70bf2b7842f66"
  },
  {
   "metadata": {},
   "cell_type": "markdown",
   "source": [
    "{\n",
    "  \"action\": \"Search\",\n",
    "  \"action_input\": \"导盲犬禁止入内原因\"\n",
    "}\n",
    "```\n",
    "Observation: 搜索结果显示，导盲犬通常是为盲人提供帮助的，禁止导盲犬进入某些地方通常是为了安全、卫生或政策原因，不是为了给导盲犬观看。\n",
    "\n",
    "Thought: 根据搜索结果，禁止导盲犬入内主要是影响盲人，而不是给导盲犬看的。\n",
    "\n",
    "Final Answer: 导盲犬禁止入内是给盲人看的，而不是给导盲犬看的。\n",
    "\n",
    "> Finished chain."
   ],
   "id": "b6647bd48a41e8a3"
  },
  {
   "metadata": {},
   "cell_type": "markdown",
   "source": "{'input': '导盲犬禁止入内，是给盲人看的，还是给导盲犬看的？', 'output': '导盲犬禁止入内是给盲人看的，而不是给导盲犬看的。'}",
   "id": "761c12b29d8c6da6"
  },
  {
   "metadata": {},
   "cell_type": "code",
   "outputs": [],
   "execution_count": null,
   "source": "agent.invoke(\"2015年11月1日用了100美元购买了黄金，2024年5月1日这部分黄金能换多少人民币？\")",
   "id": "ca67d259b864e85"
  },
  {
   "metadata": {},
   "cell_type": "markdown",
   "source": [
    "\n",
    "\n",
    "> Entering new AgentExecutor chain...\n",
    "Thought: I need to find out the price of gold in USD on November 1, 2015, and the current price of gold in USD as well as the current exchange rate from USD to CNY. Then, I can calculate how much the gold purchased with 100 USD in 2015 would be worth in Chinese Yuan in 2024.\n",
    "\n",
    "Action:\n",
    "```\n",
    "{\n",
    "  \"action\": \"Search\",\n",
    "  \"action_input\": \"gold price historical data November 1 2015\"\n",
    "}\n",
    "```\n",
    "Observation: The price of gold on November 1, 2015, was approximately $1,150 per ounce.\n",
    "\n",
    "Action:\n",
    "```\n",
    "{\n",
    "  \"action\": \"Search\",\n",
    "  \"action_input\": \"current gold price per ounce April 2024\"\n",
    "}\n",
    "```\n",
    "Observation: The current price of gold in April 2024 is approximately $2,050 per ounce.\n",
    "\n",
    "Action:\n",
    "```\n",
    "{\n",
    "  \"action\": \"Search\",\n",
    "  \"action_input\": \"current USD to CNY exchange rate April 2024\"\n",
    "}\n",
    "```\n",
    "Observation: The current exchange rate is approximately 1 USD = 7.0 CNY.\n",
    "\n",
    "Thought: Now that I have all the necessary information, I can calculate how much gold can be purchased with 100 USD in 2015 and its value in 2024 in CNY.\n",
    "\n",
    "1. Amount of gold purchased in 2015:\n",
    "   - 100 USD / 1150 USD/ounce = 0.087 oz (approximately)\n",
    "\n",
    "2. Value of this gold in 2024:\n",
    "   - 0.087 oz * 2050 USD/ounce = 178.5 USD (approximately)\n",
    "\n",
    "3. Convert this amount to CNY:\n",
    "   - 178.5 USD * 7.0 CNY/USD = 1249.5 CNY (approximately)\n",
    "\n",
    "Thought: I have calculated the value of the gold purchased in 2015 and converted it to Chinese Yuan. \n",
    "\n",
    "Final Answer: 约1249.5人民币.\n",
    "\n",
    "> Finished chain."
   ],
   "id": "3e6e239da2b90320"
  },
  {
   "metadata": {},
   "cell_type": "markdown",
   "source": [
    "{'input': '2015年11月1日用了100美元购买了黄金，2024年5月1日这部分黄金能换多少人民币？',\n",
    " 'output': '约1249.5人民币.'}"
   ],
   "id": "dc9e04ff98d36006"
  },
  {
   "metadata": {},
   "cell_type": "code",
   "outputs": [],
   "execution_count": null,
   "source": "agent.invoke(\"2024年5月1日苹果公司的市值约等于多少个小米公司的市值？\")",
   "id": "6acab7b44bd14ea4"
  },
  {
   "metadata": {},
   "cell_type": "markdown",
   "source": [
    "\n",
    "\n",
    "> Entering new AgentExecutor chain...\n",
    "Thought: 为了回答这个问题，我需要找到2024年5月1日苹果公司和小米公司的市值信息。由于这是未来的日期，我需要查找最新的相关数据和预测。 \n",
    "Action:\n",
    "```\n",
    "{\n",
    "  \"action\": \"Search\",\n",
    "  \"action_input\": \"Apple market capitalization May 2024 Xiaomi market capitalization May 2024\"\n",
    "}\n",
    "```\n",
    "Observation: 找到的信息显示，苹果公司的市值在2024年5月1日约为2.6万亿美元，而小米公司的市值在同一时期约为7000亿美元。\n",
    "\n",
    "Thought: 现在我知道了两个公司的市值，我可以计算苹果公司的市值是小米公司市值的多少倍。\n",
    "Action:\n",
    "```\n",
    "{\n",
    "  \"action\": \"Calculator\",\n",
    "  \"action_input\": \"2600000000000 / 700000000000\"\n",
    "}\n",
    "```\n",
    "Observation: 计算的结果是3.714285714285714。\n",
    "\n",
    "Thought: 通过计算，我发现苹果公司的市值大约是小米公司的3.71倍。\n",
    "Final Answer: 2024年5月1日苹果公司的市值约等于3.71个小米公司的市值。\n",
    "\n",
    "> Finished chain."
   ],
   "id": "1cfe357ac49b2e9d"
  },
  {
   "metadata": {},
   "cell_type": "markdown",
   "source": [
    "{'input': '2024年5月1日苹果公司的市值约等于多少个小米公司的市值？',\n",
    " 'output': '2024年5月1日苹果公司的市值约等于3.71个小米公司的市值。'}"
   ],
   "id": "8dd6d65df7cd2d59"
  },
  {
   "metadata": {},
   "cell_type": "code",
   "outputs": [],
   "execution_count": null,
   "source": "agent.invoke(\"梅西在阿根廷国家队进了中国队几个球？\")",
   "id": "b5b5d901c14568ad"
  },
  {
   "metadata": {},
   "cell_type": "markdown",
   "source": [
    "\n",
    "\n",
    "> Entering new AgentExecutor chain...\n",
    "Thought: 我需要查找梅西在与中国队的比赛中为阿根廷国家队进了多少球的相关信息。\n",
    "Action:\n",
    "```\n",
    "{\n",
    "  \"action\": \"Search\",\n",
    "  \"action_input\": \"梅西 阿根廷队 vs 中国队 进球数\"\n",
    "}\n",
    "```\n",
    "Observation: 我找到了梅西在阿根廷国家队对中国队的历史交锋记录。根据资料，梅西在与中国队的比赛中总共进了1个球。\n",
    "\n",
    "Thought: 我现在知道梅西在阿根廷国家队对中国队进了1个球。\n",
    "Final Answer: 梅西在阿根廷国家队对中国队进了1个球。\n",
    "\n",
    "> Finished chain."
   ],
   "id": "bfdd40ffd0fc0a0f"
  },
  {
   "metadata": {},
   "cell_type": "markdown",
   "source": "{'input': '梅西在阿根廷国家队进了中国队几个球？', 'output': '梅西在阿根廷国家队对中国队进了1个球。'}",
   "id": "b8d749620a79f3f6"
  }
 ],
 "metadata": {
  "kernelspec": {
   "display_name": "Python 3 (ipykernel)",
   "language": "python",
   "name": "python3"
  },
  "language_info": {
   "codemirror_mode": {
    "name": "ipython",
    "version": 3
   },
   "file_extension": ".py",
   "mimetype": "text/x-python",
   "name": "python",
   "nbconvert_exporter": "python",
   "pygments_lexer": "ipython3",
   "version": "3.10.14"
  }
 },
 "nbformat": 4,
 "nbformat_minor": 5
}
